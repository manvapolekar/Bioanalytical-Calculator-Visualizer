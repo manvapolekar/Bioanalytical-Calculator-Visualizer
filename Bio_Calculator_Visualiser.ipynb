{
 "cells": [
  {
   "cell_type": "markdown",
   "id": "f06d8b84",
   "metadata": {},
   "source": [
    "# Bioanalytical Calculator and Visualiser\n",
    "\n",
    "Automates key chemistry calculations: molarity, molality, normality, percentage, and more.\n"
   ]
  },
  {
   "cell_type": "code",
   "execution_count": null,
   "id": "6e5b0281",
   "metadata": {},
   "outputs": [
    {
     "name": "stdout",
     "output_type": "stream",
     "text": [
      "Molarity is: 1.0 mol/L\n",
      "Molality is: 1.0 mol/kg\n"
     ]
    }
   ],
   "source": [
    "def calculate_molarity(mass_g, molar_mass_g_per_mol, volume_L):\n",
    "    \"\"\"\n",
    "    Calculates molarity (mol/L) from:\n",
    "      mass_g: Mass of solute (grams)\n",
    "      molar_mass_g_per_mol: Molar mass of solute (g/mol)\n",
    "      volume_L: Volume of solution (liters)\n",
    "    Returns:\n",
    "      Molarity in mol/L\n",
    "    \"\"\"\n",
    "    moles = mass_g / molar_mass_g_per_mol         # Compute the number of moles\n",
    "    molarity = moles / volume_L                   # Calculate molarity\n",
    "    return molarity                               # Give back the result\n",
    "\n",
    "# Example use:\n",
    "result = calculate_molarity(1.0, 1.0, 1.0)\n",
    "print(\"Molarity is:\", result, \"mol/L\")\n",
    "\n",
    "def calculate_molality(mass_g, molar_mass_g_per_mol, solvent_kg) :\n",
    "    moles = mass_g / molar_mass_g_per_mol\n",
    "    molality = moles / solvent_kg\n",
    "    return molality\n",
    "\n",
    "# Example use:\n",
    "result = calculate_molality(1.0, 1.0, 1.0)\n",
    "print(\"Molality is:\", result, \"mol/kg\")\n"
   ]
  }
 ],
 "metadata": {
  "kernelspec": {
   "display_name": "base",
   "language": "python",
   "name": "python3"
  },
  "language_info": {
   "codemirror_mode": {
    "name": "ipython",
    "version": 3
   },
   "file_extension": ".py",
   "mimetype": "text/x-python",
   "name": "python",
   "nbconvert_exporter": "python",
   "pygments_lexer": "ipython3",
   "version": "3.13.5"
  }
 },
 "nbformat": 4,
 "nbformat_minor": 5
}
